{
  "nbformat": 4,
  "nbformat_minor": 0,
  "metadata": {
    "colab": {
      "provenance": []
    },
    "kernelspec": {
      "name": "python3",
      "display_name": "Python 3"
    },
    "language_info": {
      "name": "python"
    }
  },
  "cells": [
    {
      "cell_type": "markdown",
      "source": [
        "#Theory Quetion Answer\n",
        "1. What is Python, and why is it popular?\n",
        "   - Python is a high-level, easy-to-learn programming language known for its clean syntax and versatility. It's popular because of its wide range of libraries, strong community support, cross-platform compatibility, and applications in fields like data science, web development, AI, automation, and more.\n",
        "2. What is an interpreter in Python?\n",
        "   - An interpreter in Python is like a translator who reads your code one line at a time and instantly tells the computer what to do. It doesn't wait to translate the whole thing at once—just goes line by line, making it easier to spot and fix errors as you go. That's one reason why Python is so beginner-friendly and quick to test.\n",
        "3. What are pre-defined keywords in Python?\n",
        "   - Pre-defined keywords in Python are special reserved words that have specific meanings and purposes in the language. You cannot use them as variable names, function names, or identifiers because Python uses them to define its syntax and structure.?\n",
        "   Examples include: if, else, while, for, , True, False, None, etc.\n",
        "4. Can keywords be used as variable names?\n",
        "   - No, keywords cannot be used as variable names in Python. They are reserved words with special meaning (like if, while, for, etc.), and using them as variable names will cause a syntax error.\n",
        "5. What is mutability in Python?\n",
        "  - Mutability refers to whether an object is value can be changed after it is created like list.\n",
        "6. Why are lists mutable, but tuples are immutable?\n",
        "  -Lists are designed for flexibility—you can add, remove, or change items. Tuples are used when you want a fixed, unchangeable collection of items, making them faster and safer for certain use cases.\n",
        "7. What is the difference between == and is operators in Python?\n",
        "  - == checks if two values are equal.\n",
        "   is checks if two variables point to the same object in memory.\n",
        "8. What are logical operators in Python?\n",
        "  - Logical operators in Python are used to combine or modify boolean values (True or False). There are three logical operators in Python: and, or, and not.\n",
        "9. What is type casting in Python?\n",
        "  -Type casting in Python means converting a value from one data type to another. For example, you might want to convert a string to an integer, or a float to an integer.There are two types of type casting-(1).Explicit Type Casting. (2). Implicit Type Casting.\n",
        "10. What is the difference between implicit and explicit type casting?\n",
        "  - Implicit type casting: Python automatically converts (e.g., int + float = float)\n",
        "  Explicit type casting: You manually convert using functions like int(), str(), etc.\n",
        "11. What is the purpose of conditional statements in Python?\n",
        "  - Conditional statements (if, elif, else) are used to execute code based on certain conditions. They allow the program to make decisions and run different code blocks accordingly.\n",
        "12. How does the elif statement work?\n",
        "  - The elif (short for \"else if\") lets you check multiple conditions after an if. It runs only if the if condition is false and the elif condition is true. Only the first true condition is executed.\n",
        "13. What is the difference between for and while loops?\n",
        "  - for loop: Best when the number of iterations is known (e.g., looping through a range or list).\n",
        "  while loop: Best when looping until a condition becomes false, and you does not know how many times you will loop.\n",
        "14. Describe a scenario where a while loop is more suitable than a for loop?\n",
        "  - A while loop is more suitable when you don’t know in advance how many times you need to repeat a block of code—especially when the loop depends on a condition that changes during execution."
      ],
      "metadata": {
        "id": "RDJfFnoyXtsG"
      }
    },
    {
      "cell_type": "code",
      "execution_count": null,
      "metadata": {
        "id": "jziZPaRGXYdI"
      },
      "outputs": [],
      "source": [
        "# Practical Questions\n",
        "\"\"\"1. Write a Python program to print \"Hello, World!?\"\"\"\n",
        "\n",
        "print(\"Hello, world!\")\n"
      ]
    },
    {
      "cell_type": "code",
      "source": [
        "# 2. Write a Python program that displays your name and age?\n",
        "name = \"Prashant Kumar\"\n",
        "age = 26\n",
        "print(\"My name is\", name)\n",
        "print(\"I am\", age, \"years old.\")"
      ],
      "metadata": {
        "colab": {
          "base_uri": "https://localhost:8080/"
        },
        "id": "ME0GYFS3kDwu",
        "outputId": "70fcb49e-0196-434c-8777-d97138947d3e"
      },
      "execution_count": null,
      "outputs": [
        {
          "output_type": "stream",
          "name": "stdout",
          "text": [
            "My name is Prashant Kumar\n",
            "I am 26 years old.\n"
          ]
        }
      ]
    },
    {
      "cell_type": "code",
      "source": [
        "# 3. Write code to print all the pre-defined keywords in Python using the keyword library?\n",
        "import keyword\n",
        "\"\"\" Get the list of all keywords\"\"\"\n",
        "keywords_list = keyword.kwlist\n",
        "\n",
        "\"\"\" Print the keywords \"\"\"\n",
        "print(\"Python Keywords:\")\n",
        "for kw in keywords_list:\n",
        "    print(kw)\n"
      ],
      "metadata": {
        "id": "ZflfmmNblWFR"
      },
      "execution_count": null,
      "outputs": []
    },
    {
      "cell_type": "code",
      "source": [
        "# 4. Write a program that checks if a given word is a Python keyword.\n",
        "\n",
        "import keyword\n",
        "\n",
        "word = input(\"Enter a word to check if it's a Python keyword: \")\n",
        "\n",
        "if keyword.iskeyword(word):\n",
        "    print(f\"'{word}' is a Python keyword.\")\n",
        "else:\n",
        "    print(f\"'{word}' is NOT a Python keyword.\")\n"
      ],
      "metadata": {
        "id": "QQgM-U_7mT1O"
      },
      "execution_count": null,
      "outputs": []
    },
    {
      "cell_type": "code",
      "source": [
        "# 5. Create a list and tuple in Python, and demonstrate how attempting to change an element works differently.\n",
        "for each.\n",
        "# Creating a list and a tuple\n",
        "my_list = [10, 20, 30]\n",
        "my_tuple = (10, 20, 30)\n",
        "\n",
        "# Modify an element in the list\n",
        "print(\"Original list:\", my_list)\n",
        "my_list[1] = 99\n",
        "print(\"Modified list:\", my_list)\n",
        "\n",
        "# Try to modify an element in the tuple\n",
        "print(\"Original tuple:\", my_tuple)\n",
        "try:\n",
        "    my_tuple[1] = 99\n",
        "except TypeError as e:\n",
        "    print(\"Error:\", e)\n"
      ],
      "metadata": {
        "id": "YoJRy-olm9M0"
      },
      "execution_count": null,
      "outputs": []
    },
    {
      "cell_type": "code",
      "source": [
        "# 6. Write a function to demonstrate the behavior of mutable and immutable arguments.\n",
        "\n",
        "def demonstrate_mutable_immutable(num, num_list):\n",
        "    print(\"Inside function (before modification):\")\n",
        "    print(\"num =\", num)\n",
        "    print(\"num_list =\", num_list)\n",
        "\n",
        "    # Modify the immutable argument\n",
        "    num += 10\n",
        "\n",
        "    # Modify the mutable argument\n",
        "    num_list.append(100)\n",
        "\n",
        "    print(\"Inside function (after modification):\")\n",
        "    print(\"num =\", num)\n",
        "    print(\"num_list =\", num_list)\n",
        "\n",
        "\n",
        "# Immutable argument (int) and mutable argument (list)\n",
        "a = 5\n",
        "b = [1, 2, 3]\n",
        "\n",
        "print(\"Before function call:\")\n",
        "print(\"a =\", a)\n",
        "print(\"b =\", b)\n",
        "\n",
        "demonstrate_mutable_immutable(a, b)\n",
        "\n",
        "print(\"After function call:\")\n",
        "print(\"a =\", a)\n",
        "print(\"b =\", b)\n"
      ],
      "metadata": {
        "id": "76bY1IgYnljw"
      },
      "execution_count": null,
      "outputs": []
    },
    {
      "cell_type": "code",
      "source": [
        "# 7. Write a program that performs basic arithmetic operations on two user-input numbers.\n",
        "\n",
        "\n",
        "num1 = float(input(\"Enter the first number: \"))\n",
        "num2 = float(input(\"Enter the second number: \"))\n",
        "\n",
        "addition = num1 + num2\n",
        "subtraction = num1 - num2\n",
        "multiplication = num1 * num2\n",
        "\n",
        "# Handle division by zero\n",
        "if num2 != 0:\n",
        "    division = num1 / num2\n",
        "else:\n",
        "    division = \"Undefined (division by zero)\"\n",
        "\n",
        "print(\"\\nResults:\")\n",
        "print(f\"{num1} + {num2} = {addition}\")\n",
        "print(f\"{num1} - {num2} = {subtraction}\")\n",
        "print(f\"{num1} * {num2} = {multiplication}\")\n",
        "print(f\"{num1} / {num2} = {division}\")\n"
      ],
      "metadata": {
        "id": "IxIvh9q5WQpc"
      },
      "execution_count": null,
      "outputs": []
    },
    {
      "cell_type": "code",
      "source": [
        "# 8. Write a program to demonstrate the use of logical operators.\n",
        "\n",
        "# Take user input\n",
        "a = int(input(\"Enter first number: \"))\n",
        "b = int(input(\"Enter second number: \"))\n",
        "\n",
        "# Display the values\n",
        "print(f\"\\nYou entered: a = {a}, b = {b}\\n\")\n",
        "\n",
        "# Logical AND\n",
        "if a > 0 and b > 0:\n",
        "    print(\"Both numbers are positive (a > 0 and b > 0)\")\n",
        "else:\n",
        "    print(\"At least one number is not positive\")\n",
        "\n",
        "# Logical OR\n",
        "if a > 0 or b > 0:\n",
        "    print(\"At least one number is positive (a > 0 or b > 0)\")\n",
        "else:\n",
        "    print(\"Both numbers are non-positive\")\n",
        "\n",
        "# Logical NOT\n",
        "if not (a == b):\n",
        "    print(\"The numbers are not equal (not a == b)\")\n",
        "else:\n",
        "    print(\"The numbers are equal\")\n"
      ],
      "metadata": {
        "id": "SWwb8oz4WfE6"
      },
      "execution_count": null,
      "outputs": []
    },
    {
      "cell_type": "code",
      "source": [
        "# 9. Write a Python program to convert user input from string to integer, float, and boolean types.\n",
        "\n",
        "\n",
        "# Take input from user as string\n",
        "user_input = input(\"Enter a value: \")\n",
        "\n",
        "print(f\"\\nOriginal input (string): '{user_input}'\")\n",
        "\n",
        "# Convert to integer\n",
        "try:\n",
        "    int_value = int(user_input)\n",
        "    print(f\"Converted to integer: {int_value}\")\n",
        "except ValueError:\n",
        "    print(\"Cannot convert to integer.\")\n",
        "\n",
        "# Convert to float\n",
        "try:\n",
        "    float_value = float(user_input)\n",
        "    print(f\"Converted to float: {float_value}\")\n",
        "except ValueError:\n",
        "    print(\"Cannot convert to float.\")\n",
        "\n",
        "bool_value = bool(user_input)\n",
        "print(f\"Converted to boolean: {bool_value}\")\n"
      ],
      "metadata": {
        "id": "iITF6DPHWuDD"
      },
      "execution_count": null,
      "outputs": []
    },
    {
      "cell_type": "code",
      "source": [
        "# 10. Write code to demonstrate type casting with list elements.\n",
        "\n",
        "\n",
        "string_list = ['10', '20', '0', '', '100']\n",
        "print(\"Original:\", string_list)\n",
        "\n",
        "# Convert to int\n",
        "int_list = [int(i) if i.isdigit() else None for i in string_list]\n",
        "print(\"To int:\", int_list)\n",
        "\n",
        "# Convert to float\n",
        "float_list = [float(i) if i.replace('.', '', 1).isdigit() else None for i in string_list]\n",
        "print(\"To float:\", float_list)\n",
        "\n",
        "# Convert to bool\n",
        "bool_list = [bool(i) for i in string_list]\n",
        "print(\"To bool:\", bool_list)\n"
      ],
      "metadata": {
        "id": "oI_a0JXPW-ei"
      },
      "execution_count": null,
      "outputs": []
    },
    {
      "cell_type": "code",
      "source": [
        "# 11. Write a program that checks if a number is positive, negative, or zero.\n",
        "\n",
        "\n",
        "num = float(input(\"Enter a number: \"))\n",
        "\n",
        "if num > 0:\n",
        "    print(\"The number is positive.\")\n",
        "elif num < 0:\n",
        "    print(\"The number is negative.\")\n",
        "else:\n",
        "    print(\"The number is zero.\")\n"
      ],
      "metadata": {
        "id": "XBrsSugNXMIh"
      },
      "execution_count": null,
      "outputs": []
    },
    {
      "cell_type": "code",
      "source": [
        "# 12. Write a for loop to print numbers from 1 to 10.\n",
        "\n",
        "for i in range(1, 11):\n",
        "    print(i)\n"
      ],
      "metadata": {
        "id": "BqNxIkzlXYQ-"
      },
      "execution_count": null,
      "outputs": []
    },
    {
      "cell_type": "code",
      "source": [
        "# 13. Write a Python program to find the sum of all even numbers between 1 and 50.\n",
        "\n",
        "even_sum = 0\n",
        "for i in range(2, 51, 2):  # Start from 2, step by 2\n",
        "    even_sum += i\n",
        "\n",
        "print(\"Sum of even numbers from 1 to 50 is:\", even_sum)\n"
      ],
      "metadata": {
        "id": "xhGihUtVXmHA"
      },
      "execution_count": null,
      "outputs": []
    },
    {
      "cell_type": "code",
      "source": [
        "# 14. Write a program to reverse a string using a while loop.\n",
        "\n",
        "text = input(\"Enter a string: \")\n",
        "reversed_text = \"\"\n",
        "i = len(text) - 1\n",
        "\n",
        "while i >= 0:\n",
        "    reversed_text += text[i]\n",
        "    i -= 1\n",
        "\n",
        "print(\"Reversed string:\", reversed_text)\n"
      ],
      "metadata": {
        "id": "7sJ_wG0BXwYJ"
      },
      "execution_count": null,
      "outputs": []
    },
    {
      "cell_type": "code",
      "source": [
        "# 15. Write a Python program to calculate the factorial of a number provided by the user using a while loop.\n",
        "\n",
        "num = int(input(\"Enter a number: \"))\n",
        "factorial = 1\n",
        "\n",
        "# Handle the case for negative numbers\n",
        "if num < 0:\n",
        "    print(\"Factorial is not defined for negative numbers.\")\n",
        "else:\n",
        "    while num > 1:\n",
        "        factorial *= num\n",
        "        num -= 1\n",
        "\n",
        "    print(\"Factorial is:\", factorial)\n",
        "\n"
      ],
      "metadata": {
        "id": "YsH2ERNSX6IW"
      },
      "execution_count": null,
      "outputs": []
    }
  ]
}